{
  "nbformat": 4,
  "nbformat_minor": 0,
  "metadata": {
    "colab": {
      "provenance": [],
      "authorship_tag": "ABX9TyOgY7WlKK2fEYWy0NI3fMbk",
      "include_colab_link": true
    },
    "kernelspec": {
      "name": "python3",
      "display_name": "Python 3"
    },
    "language_info": {
      "name": "python"
    }
  },
  "cells": [
    {
      "cell_type": "markdown",
      "metadata": {
        "id": "view-in-github",
        "colab_type": "text"
      },
      "source": [
        "<a href=\"https://colab.research.google.com/github/VennelaPulavarti/NNandDLclass3/blob/main/NN%26DL_ICP_3.ipynb\" target=\"_parent\"><img src=\"https://colab.research.google.com/assets/colab-badge.svg\" alt=\"Open In Colab\"/></a>"
      ]
    },
    {
      "cell_type": "markdown",
      "source": [
        "Github Link :\n",
        "\n",
        "video explanation link :\n",
        "\n",
        "submission confirmation number :"
      ],
      "metadata": {
        "id": "QbFbmePD8c-m"
      }
    },
    {
      "cell_type": "code",
      "source": [
        "# QUE 1\n",
        "\n",
        "class Employee:\n",
        "    # DATA MEMBER TO COUNT THE NUMBER OF EMPLOYEES\n",
        "    empCount = 0\n",
        "\n",
        "    # CONSTRUCTOR TO INITIALIZE NAME, FAMILY, SALARY, DEPARTMENT\n",
        "    def __init__(self, name, family, salary, department):\n",
        "        self.name = name\n",
        "        self.family = family\n",
        "        self.salary = salary\n",
        "        self.department = department\n",
        "        Employee.empCount += 1    # EMPLOYEE COUNT\n",
        "\n",
        "    # FUNCTION FOR AVERAGE SALARY OF EMPLOYEE\n",
        "    def avg_salary(self):\n",
        "        total_salary = 0\n",
        "        total_salary += float(self.salary)\n",
        "        avg = total_salary / Employee.empCount\n",
        "        print('Average salary of the Employee:', avg)\n",
        "\n",
        "    # TO DISPLAY DETAILS OF EMPLOYEE\n",
        "    def display(self):\n",
        "        print('Employee Name:', self.name)\n",
        "        print('Family Members:', self.family)\n",
        "        print('Employee Annual Salary:', self.salary)\n",
        "        print('Department:', self.department)\n",
        "        print(\"==========\")\n",
        "\n",
        "# INHERITING - EMPLOYEE CLASS\n",
        "class Fulltime_Employee(Employee):\n",
        "    def __init__(self, name, family, salary, department, emp_type):\n",
        "        Employee.__init__(self, name, family, salary, department)\n",
        "        self.emp_type = emp_type\n",
        "\n",
        "    #FUNCTION TO DISPLAY EMPLOYEE DETAILS\n",
        "    def display(self):\n",
        "        print(\"Employee Name :\", self.name)\n",
        "        print('Family Members:', self.family)\n",
        "        print('Employee Annual Salary:', self.salary)\n",
        "        print('Department:', self.department)\n",
        "        print('Type of Employment :', self.emp_type)\n",
        "        print(\"==========\")\n",
        "\n",
        "\n",
        "# INSTANCES FOR EMPLOYEE CLASS\n",
        "emp1 = Employee('Vennela', '4', '650000', 'Software Engineer')\n",
        "# INSTANCE FOR FULL TIME EMPLOYEE\n",
        "emp2 = Fulltime_Employee('Varshitha', '5', '516000', 'Software Engineer', 'Fulltime')\n",
        "emp3 = Fulltime_Employee('Aashritha', '5', '900000', 'Web Developer', 'Fulltime')\n",
        "\n",
        "print(\"Count of the Employees :\", emp1.empCount)\n",
        "emp1.avg_salary()\n",
        "emp1.display()\n",
        "emp2.display()\n",
        "emp3.display()"
      ],
      "metadata": {
        "colab": {
          "base_uri": "https://localhost:8080/"
        },
        "id": "yiOPg-IqvSd_",
        "outputId": "0a45b1f6-8d2a-457d-978e-c463c1fb769c"
      },
      "execution_count": 16,
      "outputs": [
        {
          "output_type": "stream",
          "name": "stdout",
          "text": [
            "Count of the Employees : 3\n",
            "Average salary of the Employee: 216666.66666666666\n",
            "Employee Name: Vennela\n",
            "Family Members: 4\n",
            "Employee Annual Salary: 650000\n",
            "Department: Software Engineer\n",
            "==========\n",
            "Employee Name : Varshitha\n",
            "Family Members: 5\n",
            "Employee Annual Salary: 516000\n",
            "Department: Software Engineer\n",
            "Type of Employment : Fulltime\n",
            "==========\n",
            "Employee Name : Aashritha\n",
            "Family Members: 5\n",
            "Employee Annual Salary: 900000\n",
            "Department: Web Developer\n",
            "Type of Employment : Fulltime\n",
            "==========\n"
          ]
        }
      ]
    },
    {
      "cell_type": "code",
      "source": [
        "# QUE 2\n",
        "\n",
        "import numpy as np\n",
        "\n",
        "# creating array of size 20\n",
        "random_vector = np.random.uniform(1, 20, 20)\n",
        "print(\"Random Vector : \\n\", random_vector)\n",
        "\n",
        "# reshape the array to 4 by 5\n",
        "random_vector = random_vector.reshape(4,5)\n",
        "print(\"after reshaping (4 by 5): \\n\", random_vector)\n",
        "\n",
        "# replace the max in each row\n",
        "random_vector[np.arange(len(random_vector)), random_vector.argmax(1)] = 0\n",
        "print(\"Replacing the max in each row : \\n\", random_vector)"
      ],
      "metadata": {
        "colab": {
          "base_uri": "https://localhost:8080/"
        },
        "id": "-5A3shkUvdhF",
        "outputId": "ddd64452-5554-4fa3-bfb7-291bdd4ce6d4"
      },
      "execution_count": 21,
      "outputs": [
        {
          "output_type": "stream",
          "name": "stdout",
          "text": [
            "Random Vector : \n",
            " [ 6.85413382  5.35001835  2.28551469  8.06611938  5.53056572 19.3025633\n",
            " 17.02334194 16.95594993 16.83998001  8.82515504 12.35020309 10.07138126\n",
            "  7.09661694  8.30452432 13.77731602  4.66110864  6.47533394 17.71567985\n",
            "  8.96487699 14.96469421]\n",
            "after reshaping (4 by 5): \n",
            " [[ 6.85413382  5.35001835  2.28551469  8.06611938  5.53056572]\n",
            " [19.3025633  17.02334194 16.95594993 16.83998001  8.82515504]\n",
            " [12.35020309 10.07138126  7.09661694  8.30452432 13.77731602]\n",
            " [ 4.66110864  6.47533394 17.71567985  8.96487699 14.96469421]]\n",
            "Replacing the max in each row : \n",
            " [[ 6.85413382  5.35001835  2.28551469  0.          5.53056572]\n",
            " [ 0.         17.02334194 16.95594993 16.83998001  8.82515504]\n",
            " [12.35020309 10.07138126  7.09661694  8.30452432  0.        ]\n",
            " [ 4.66110864  6.47533394  0.          8.96487699 14.96469421]]\n"
          ]
        }
      ]
    }
  ]
}